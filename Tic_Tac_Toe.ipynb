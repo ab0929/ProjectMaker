{
  "nbformat": 4,
  "nbformat_minor": 0,
  "metadata": {
    "colab": {
      "provenance": [],
      "authorship_tag": "ABX9TyMh8VWQyGbSZtmMR7ByXcpF",
      "include_colab_link": true
    },
    "kernelspec": {
      "name": "python3",
      "display_name": "Python 3"
    },
    "language_info": {
      "name": "python"
    }
  },
  "cells": [
    {
      "cell_type": "markdown",
      "metadata": {
        "id": "view-in-github",
        "colab_type": "text"
      },
      "source": [
        "<a href=\"https://colab.research.google.com/github/ab0929/ProjectMaker/blob/main/Tic_Tac_Toe.ipynb\" target=\"_parent\"><img src=\"https://colab.research.google.com/assets/colab-badge.svg\" alt=\"Open In Colab\"/></a>"
      ]
    },
    {
      "cell_type": "code",
      "execution_count": null,
      "metadata": {
        "colab": {
          "base_uri": "https://localhost:8080/"
        },
        "id": "0cG9l5Ufah0c",
        "outputId": "bdd9e1a3-c2d9-4db7-f0f4-6885e64c642f"
      },
      "outputs": [
        {
          "output_type": "stream",
          "name": "stdout",
          "text": [
            "The value of the best Move is : 10\n",
            "\n",
            "The Optimal Move is :\n",
            "ROW: 2  COL: 2\n"
          ]
        }
      ],
      "source": [
        "player, opponent = 'x', 'o'\n",
        "def isMovesLeft(board) :\n",
        "\n",
        "\tfor i in range(3) :\n",
        "\t\tfor j in range(3) :\n",
        "\t\t\tif (board[i][j] == '_') :\n",
        "\t\t\t\treturn True\n",
        "\treturn False\n",
        "def evaluate(b) :\n",
        "\tfor row in range(3) :\n",
        "\t\tif (b[row][0] == b[row][1] and b[row][1] == b[row][2]) :\n",
        "\t\t\tif (b[row][0] == player) :\n",
        "\t\t\t\treturn 10\n",
        "\t\t\telif (b[row][0] == opponent) :\n",
        "\t\t\t\treturn -10\n",
        "\tfor col in range(3) :\n",
        "\t\tif (b[0][col] == b[1][col] and b[1][col] == b[2][col]) :\n",
        "\t\t\tif (b[0][col] == player) :\n",
        "\t\t\t\treturn 10\n",
        "\t\t\telif (b[0][col] == opponent) :\n",
        "\t\t\t\treturn -10\n",
        "\tif (b[0][0] == b[1][1] and b[1][1] == b[2][2]) :\n",
        "\t\tif (b[0][0] == player) :\n",
        "\t\t\treturn 10\n",
        "\t\telif (b[0][0] == opponent) :\n",
        "\t\t\treturn -10\n",
        "\n",
        "\tif (b[0][2] == b[1][1] and b[1][1] == b[2][0]) :\n",
        "\t\tif (b[0][2] == player) :\n",
        "\t\t\treturn 10\n",
        "\t\telif (b[0][2] == opponent) :\n",
        "\t\t\treturn -10\n",
        "\treturn 0\n",
        "def minimax(board, depth, isMax) :\n",
        "\tscore = evaluate(board)\n",
        "\tif (score == 10) :\n",
        "\t\treturn score\n",
        "\tif (score == -10) :\n",
        "\t\treturn score\n",
        "\tif (isMovesLeft(board) == False) :\n",
        "\t\treturn 0\n",
        "\tif (isMax) :\n",
        "\t\tbest = -1000\n",
        "\t\tfor i in range(3) :\n",
        "\t\t\tfor j in range(3) :\n",
        "\t\t\t\tif (board[i][j]=='_') :\n",
        "\t\t\t\t\tboard[i][j] = player\n",
        "\t\t\t\t\tbest = max( best, minimax(board,\n",
        "\t\t\t\t\t\t\t\t\t\t\tdepth + 1,\n",
        "\t\t\t\t\t\t\t\t\t\t\tnot isMax) )\n",
        "\t\t\t\t\tboard[i][j] = '_'\n",
        "\t\treturn best\n",
        "\telse :\n",
        "\t\tbest = 1000\n",
        "\t\tfor i in range(3) :\n",
        "\t\t\tfor j in range(3) :\n",
        "\t\t\t\tif (board[i][j] == '_') :\n",
        "\t\t\t\t\tboard[i][j] = opponent\n",
        "\t\t\t\t\tbest = min(best, minimax(board, depth + 1, not isMax))\n",
        "\t\t\t\t\tboard[i][j] = '_'\n",
        "\t\treturn best\n",
        "def findBestMove(board) :\n",
        "\tbestVal = -1000\n",
        "\tbestMove = (-1, -1)\n",
        "\tfor i in range(3) :\n",
        "\t\tfor j in range(3) :\n",
        "\t\t\tif (board[i][j] == '_') :\n",
        "\t\t\t\tboard[i][j] = player\n",
        "\t\t\t\tmoveVal = minimax(board, 0, False)\n",
        "\t\t\t\tboard[i][j] = '_'\n",
        "\t\t\t\tif (moveVal > bestVal) :\n",
        "\t\t\t\t\tbestMove = (i, j)\n",
        "\t\t\t\t\tbestVal = moveVal\n",
        "\n",
        "\tprint(\"The value of the best Move is :\", bestVal)\n",
        "\tprint()\n",
        "\treturn bestMove\n",
        "board = [\n",
        "\t[ 'x', 'o', 'x' ],\n",
        "\t[ 'o', 'o', 'x' ],\n",
        "\t[ '_', '_', '_' ]\n",
        "]\n",
        "bestMove = findBestMove(board)\n",
        "print(\"The Optimal Move is :\")\n",
        "print(\"ROW:\", bestMove[0], \" COL:\", bestMove[1])"
      ]
    },
    {
      "cell_type": "code",
      "source": [],
      "metadata": {
        "id": "jI4K_PaXalsb"
      },
      "execution_count": null,
      "outputs": []
    }
  ]
}