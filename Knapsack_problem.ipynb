{
  "nbformat": 4,
  "nbformat_minor": 0,
  "metadata": {
    "colab": {
      "provenance": [],
      "authorship_tag": "ABX9TyO6hCNPVrnplbJQFOKbv2Nb",
      "include_colab_link": true
    },
    "kernelspec": {
      "name": "python3",
      "display_name": "Python 3"
    },
    "language_info": {
      "name": "python"
    }
  },
  "cells": [
    {
      "cell_type": "markdown",
      "metadata": {
        "id": "view-in-github",
        "colab_type": "text"
      },
      "source": [
        "<a href=\"https://colab.research.google.com/github/ab0929/ProjectMaker/blob/main/Knapsack_problem.ipynb\" target=\"_parent\"><img src=\"https://colab.research.google.com/assets/colab-badge.svg\" alt=\"Open In Colab\"/></a>"
      ]
    },
    {
      "cell_type": "code",
      "execution_count": null,
      "metadata": {
        "id": "w3b53v4oJYMo",
        "colab": {
          "base_uri": "https://localhost:8080/"
        },
        "outputId": "85ed68ae-2ba0-4c75-c6a8-9d3d93aa1173"
      },
      "outputs": [
        {
          "output_type": "stream",
          "name": "stdout",
          "text": [
            "The maximum value is :  125\n"
          ]
        }
      ],
      "source": [
        "def knapSack(W, wt, val, n):\n",
        "\tif n == 0 or W == 0:\n",
        "\t\treturn 0\n",
        "\tif (wt[n-1] > W):\n",
        "\t\treturn knapSack(W, wt, val, n-1)\n",
        "\telse:\n",
        "\t\treturn max(\n",
        "\t\t\tval[n-1] + knapSack(\n",
        "\t\t\t\tW-wt[n-1], wt, val, n-1),\n",
        "\t\t\tknapSack(W, wt, val, n-1))\n",
        "val = [25, 50, 100]\n",
        "wt = [10, 20, 40]\n",
        "W = 50\n",
        "n = len(val)\n",
        "print (\"The maximum value is : \",knapSack(W, wt, val, n))"
      ]
    }
  ]
}