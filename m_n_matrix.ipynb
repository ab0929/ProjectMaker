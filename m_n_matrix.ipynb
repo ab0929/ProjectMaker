{
  "nbformat": 4,
  "nbformat_minor": 0,
  "metadata": {
    "colab": {
      "provenance": [],
      "authorship_tag": "ABX9TyPriBgJ+3n2gxiEbVgg1cRq",
      "include_colab_link": true
    },
    "kernelspec": {
      "name": "python3",
      "display_name": "Python 3"
    },
    "language_info": {
      "name": "python"
    }
  },
  "cells": [
    {
      "cell_type": "markdown",
      "metadata": {
        "id": "view-in-github",
        "colab_type": "text"
      },
      "source": [
        "<a href=\"https://colab.research.google.com/github/ab0929/ProjectMaker/blob/main/m_n_matrix.ipynb\" target=\"_parent\"><img src=\"https://colab.research.google.com/assets/colab-badge.svg\" alt=\"Open In Colab\"/></a>"
      ]
    },
    {
      "cell_type": "code",
      "execution_count": null,
      "metadata": {
        "colab": {
          "base_uri": "https://localhost:8080/"
        },
        "id": "O7gFt0VVUb7y",
        "outputId": "68910810-55a0-43fd-faa5-6871d6e7f9e5"
      },
      "outputs": [
        {
          "output_type": "stream",
          "name": "stdout",
          "text": [
            "Enter m value : 2\n",
            "Enter n value : 3\n",
            "1\n",
            "2\n",
            "3\n",
            "4\n",
            "5\n",
            "6\n",
            "Enter row source0\n",
            "Enter column source0\n",
            "Enter row target1\n",
            "Enter column target2\n",
            "1 2 3 \n",
            "4 5 6 \n",
            "The shortest path from (0, 0) to (1, 2) is 3\n"
          ]
        }
      ],
      "source": [
        "from collections import deque\n",
        "def sort_matrix(grid, m, n):\n",
        "    A =[]\n",
        "    for i in range(m):\n",
        "        for j in range(n):\n",
        "            if j == n-1 or (i == m-1\n",
        "                ) or j == 0 or i == 0:\n",
        "                A.append(grid[i][j])\n",
        "    A.sort()\n",
        "    x = 0\n",
        "    for i in range(len(matrix)):\n",
        "        for j in range(len(matrix[0])):\n",
        "            matrix[i][j] = A[x]\n",
        "            x += 1\n",
        "    return matrix\n",
        "def shortest_path(matrix, source, target,m,n):\n",
        "    visited = set()\n",
        "    q = deque([(source, 0)])\n",
        "    visited.add(source)\n",
        "    while q:\n",
        "        cell, dist = q.popleft()\n",
        "        if cell == target:\n",
        "            return dist\n",
        "        row=cell[0]\n",
        "        col=cell[1]\n",
        "        for r, c in [(row+1,col), (row-1,col), (row,col+1), (row,col-1)]:\n",
        "            if 0 <= r < m and 0 <= c < n and matrix[r][c] != 0 and (r,c) not in visited:\n",
        "                visited.add((r,c))\n",
        "                q.append(((r,c), dist+1))\n",
        "    return -1\n",
        "matrix=[]\n",
        "m=int(input(\"Enter m value : \"))\n",
        "n=int(input(\"Enter n value : \"))\n",
        "for i in range(m):\n",
        "    a =[]\n",
        "    for j in range(n):\n",
        "         a.append(int(input()))\n",
        "    matrix.append(a)\n",
        "source1=int(input(\"Enter row source\"))\n",
        "source2=int(input(\"Enter column source\"))\n",
        "target1=int(input(\"Enter row target\"))\n",
        "target2=int(input(\"Enter column target\"))\n",
        "source=(source1,source2)\n",
        "target=(target1,target2)\n",
        "sort_matrix(matrix,m,n)\n",
        "for i in range(m):\n",
        "    for j in range(n):\n",
        "        print(matrix[i][j], end = \" \")\n",
        "    print()\n",
        "short=shortest_path(matrix,source,target,m,n)\n",
        "print(f\"The shortest path from {source} to {target} is {short}\")"
      ]
    },
    {
      "cell_type": "code",
      "source": [
        "3\n",
        "342323\n"
      ],
      "metadata": {
        "id": "C1xOMCAXVkss"
      },
      "execution_count": null,
      "outputs": []
    }
  ]
}