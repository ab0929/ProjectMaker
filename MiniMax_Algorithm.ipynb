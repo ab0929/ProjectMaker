{
  "nbformat": 4,
  "nbformat_minor": 0,
  "metadata": {
    "colab": {
      "provenance": [],
      "authorship_tag": "ABX9TyMBubc8+c/QHNXcc5nFMgjM",
      "include_colab_link": true
    },
    "kernelspec": {
      "name": "python3",
      "display_name": "Python 3"
    },
    "language_info": {
      "name": "python"
    }
  },
  "cells": [
    {
      "cell_type": "markdown",
      "metadata": {
        "id": "view-in-github",
        "colab_type": "text"
      },
      "source": [
        "<a href=\"https://colab.research.google.com/github/ab0929/ProjectMaker/blob/main/MiniMax_Algorithm.ipynb\" target=\"_parent\"><img src=\"https://colab.research.google.com/assets/colab-badge.svg\" alt=\"Open In Colab\"/></a>"
      ]
    },
    {
      "cell_type": "code",
      "execution_count": null,
      "metadata": {
        "colab": {
          "base_uri": "https://localhost:8080/"
        },
        "id": "bMxXtiC7T4l0",
        "outputId": "205fce14-a59b-4899-d081-88977c3cdbfc"
      },
      "outputs": [
        {
          "output_type": "stream",
          "name": "stdout",
          "text": [
            "The optimal value is : 5\n"
          ]
        }
      ],
      "source": [
        "MAX, MIN = 1000, -1000\n",
        "def minimax(depth, nodeIndex, maximizingPlayer,\n",
        "\t\t\tvalues, alpha, beta):\n",
        "\tif depth == 3:\n",
        "\t\treturn values[nodeIndex]\n",
        "\n",
        "\tif maximizingPlayer:\n",
        "\n",
        "\t\tbest = MIN\n",
        "\t\tfor i in range(0, 2):\n",
        "\n",
        "\t\t\tval = minimax(depth + 1, nodeIndex * 2 + i,\n",
        "\t\t\t\t\t\tFalse, values, alpha, beta)\n",
        "\t\t\tbest = max(best, val)\n",
        "\t\t\talpha = max(alpha, best)\n",
        "\t\t\tif beta <= alpha:\n",
        "\t\t\t\tbreak\n",
        "\n",
        "\t\treturn best\n",
        "\n",
        "\telse:\n",
        "\t\tbest = MAX\n",
        "\t\tfor i in range(0, 2):\n",
        "\n",
        "\t\t\tval = minimax(depth + 1, nodeIndex * 2 + i,\n",
        "\t\t\t\t\t\t\tTrue, values, alpha, beta)\n",
        "\t\t\tbest = min(best, val)\n",
        "\t\t\tbeta = min(beta, best)\n",
        "\t\t\tif beta <= alpha:\n",
        "\t\t\t\tbreak\n",
        "\n",
        "\t\treturn best\n",
        "\n",
        "values = [3, 5, 6, 9, 1, 2, 0, -1]\n",
        "print(\"The optimal value is :\", minimax(0, 0, True, values, MIN, MAX))"
      ]
    }
  ]
}