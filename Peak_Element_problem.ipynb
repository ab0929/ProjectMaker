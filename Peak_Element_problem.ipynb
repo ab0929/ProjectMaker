{
  "nbformat": 4,
  "nbformat_minor": 0,
  "metadata": {
    "colab": {
      "provenance": [],
      "authorship_tag": "ABX9TyNyanA942SvG1WWVrIK6hSt",
      "include_colab_link": true
    },
    "kernelspec": {
      "name": "python3",
      "display_name": "Python 3"
    },
    "language_info": {
      "name": "python"
    }
  },
  "cells": [
    {
      "cell_type": "markdown",
      "metadata": {
        "id": "view-in-github",
        "colab_type": "text"
      },
      "source": [
        "<a href=\"https://colab.research.google.com/github/ab0929/ProjectMaker/blob/main/Peak_Element_problem.ipynb\" target=\"_parent\"><img src=\"https://colab.research.google.com/assets/colab-badge.svg\" alt=\"Open In Colab\"/></a>"
      ]
    },
    {
      "cell_type": "code",
      "execution_count": null,
      "metadata": {
        "colab": {
          "base_uri": "https://localhost:8080/"
        },
        "id": "n2jcemQxPQw4",
        "outputId": "1c9dc452-4d2e-467c-f9dd-43b9641b7950"
      },
      "outputs": [
        {
          "output_type": "stream",
          "name": "stdout",
          "text": [
            "The Peak Element is given by :  1000\n",
            "The Square root of peak element is given by :  31.622776601683793\n"
          ]
        }
      ],
      "source": [
        "import math\n",
        "def peakelement(arr):\n",
        "    n=len(arr)\n",
        "    low=0\n",
        "    high=n-1\n",
        "\n",
        "    while low<=high:\n",
        "        m=low+(high-low)//2\n",
        "        if (m==0 or arr[m-1] <= arr[m]) and (m==n-1 or arr[m+1] <= arr[m]):\n",
        "            return arr[m]\n",
        "        elif m>0 and arr[m-1]>arr[m]:\n",
        "            high=m-1\n",
        "        else:\n",
        "            low=m+1\n",
        "numbers=[1000, 350, 81, 1000, 110, 4000]\n",
        "peaknum=peakelement(numbers)\n",
        "peaknumsqrt=math.sqrt(peaknum)\n",
        "print(\"The Peak Element is given by : \", peaknum)\n",
        "print(\"The Square root of peak element is given by : \", peaknumsqrt)"
      ]
    },
    {
      "cell_type": "code",
      "source": [],
      "metadata": {
        "id": "qmPQnPG6Ud5i"
      },
      "execution_count": null,
      "outputs": []
    }
  ]
}