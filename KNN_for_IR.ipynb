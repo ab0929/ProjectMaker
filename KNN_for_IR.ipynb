{
  "nbformat": 4,
  "nbformat_minor": 0,
  "metadata": {
    "colab": {
      "provenance": [],
      "authorship_tag": "ABX9TyN+6643QwY+mnfcGu+In1Q2",
      "include_colab_link": true
    },
    "kernelspec": {
      "name": "python3",
      "display_name": "Python 3"
    },
    "language_info": {
      "name": "python"
    }
  },
  "cells": [
    {
      "cell_type": "markdown",
      "metadata": {
        "id": "view-in-github",
        "colab_type": "text"
      },
      "source": [
        "<a href=\"https://colab.research.google.com/github/ab0929/ProjectMaker/blob/main/KNN_for_IR.ipynb\" target=\"_parent\"><img src=\"https://colab.research.google.com/assets/colab-badge.svg\" alt=\"Open In Colab\"/></a>"
      ]
    },
    {
      "cell_type": "code",
      "execution_count": null,
      "metadata": {
        "id": "mKycT-OKJWpz",
        "colab": {
          "base_uri": "https://localhost:8080/"
        },
        "outputId": "03da4484-7296-4e1d-dd6e-c61b34488f1d"
      },
      "outputs": [
        {
          "output_type": "stream",
          "name": "stdout",
          "text": [
            "Query point: [[5. 3. 2. 1.]]\n",
            "Neighbor 1: virginica\n",
            "Distance from query point: 2.86\n",
            "Neighbor 2: virginica\n",
            "Distance from query point: 3.07\n",
            "Neighbor 3: virginica\n",
            "Distance from query point: 3.91\n"
          ]
        }
      ],
      "source": [
        "import numpy as np\n",
        "from sklearn.datasets import load_iris\n",
        "from sklearn.preprocessing import StandardScaler\n",
        "from sklearn.neighbors import KDTree\n",
        "\n",
        "# Load the iris dataset\n",
        "iris = load_iris()\n",
        "\n",
        "# Scale the features to have zero mean and unit variance\n",
        "scaler = StandardScaler()\n",
        "X = scaler.fit_transform(iris.data)\n",
        "\n",
        "# Build the KD tree\n",
        "kdtree = KDTree(X, leaf_size=30)\n",
        "\n",
        "# Query the KD tree for the nearest neighbors\n",
        "query_point = np.array([5.0, 3.0, 2.0, 1.0]).reshape(1, -1)\n",
        "distances, indices = kdtree.query(query_point, k=3)\n",
        "\n",
        "# Print the results\n",
        "print(\"Query point:\", query_point)\n",
        "for i, index in enumerate(indices[0]):\n",
        "    print(\"Neighbor {}: {}\".format(i+1, iris.target_names[iris.target[index]]))\n",
        "    print(\"Distance from query point: {:.2f}\".format(distances[0][i]))"
      ]
    },
    {
      "cell_type": "code",
      "source": [
        ""
      ],
      "metadata": {
        "id": "EsxNB-kO7RKe"
      },
      "execution_count": null,
      "outputs": []
    }
  ]
}