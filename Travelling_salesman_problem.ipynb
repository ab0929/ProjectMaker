{
  "nbformat": 4,
  "nbformat_minor": 0,
  "metadata": {
    "colab": {
      "provenance": [],
      "authorship_tag": "ABX9TyPyeot/VsC5mfIFzjPILP/t",
      "include_colab_link": true
    },
    "kernelspec": {
      "name": "python3",
      "display_name": "Python 3"
    },
    "language_info": {
      "name": "python"
    }
  },
  "cells": [
    {
      "cell_type": "markdown",
      "metadata": {
        "id": "view-in-github",
        "colab_type": "text"
      },
      "source": [
        "<a href=\"https://colab.research.google.com/github/ab0929/ProjectMaker/blob/main/Travelling_salesman_problem.ipynb\" target=\"_parent\"><img src=\"https://colab.research.google.com/assets/colab-badge.svg\" alt=\"Open In Colab\"/></a>"
      ]
    },
    {
      "cell_type": "code",
      "execution_count": null,
      "metadata": {
        "colab": {
          "base_uri": "https://localhost:8080/"
        },
        "id": "t40ciw_mqobN",
        "outputId": "827e82c1-8a0b-4001-8ad8-2bdd2d0cde73"
      },
      "outputs": [
        {
          "output_type": "stream",
          "name": "stdout",
          "text": [
            "80\n"
          ]
        }
      ],
      "source": [
        "from sys import maxsize\n",
        "from itertools import permutations\n",
        "V = 4\n",
        "def travellingSalesmanProblem(graph, s):\n",
        "    vertex = []\n",
        "    for i in range(V):\n",
        "        if i != s:\n",
        "            vertex.append(i)\n",
        "    min_path = maxsize\n",
        "    next_permutation=permutations(vertex)\n",
        "    for i in next_permutation:\n",
        "        current_pathweight = 0\n",
        "        k = s\n",
        "        for j in i:\n",
        "            current_pathweight += graph[k][j]\n",
        "            k = j\n",
        "        current_pathweight += graph[k][s]\n",
        "        min_path = min(min_path, current_pathweight)\n",
        "\n",
        "    return min_path\n",
        "\n",
        "graph = [[0, 10, 15, 20], [10, 0, 35, 25],[15, 35, 0, 30], [20, 25, 30, 0]]\n",
        "s = 0\n",
        "print(travellingSalesmanProblem(graph, s))"
      ]
    },
    {
      "cell_type": "code",
      "source": [
        ""
      ],
      "metadata": {
        "id": "O8xaqxkCq3eW"
      },
      "execution_count": null,
      "outputs": []
    }
  ]
}