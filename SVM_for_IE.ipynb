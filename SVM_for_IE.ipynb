{
  "nbformat": 4,
  "nbformat_minor": 0,
  "metadata": {
    "colab": {
      "provenance": [],
      "authorship_tag": "ABX9TyOiORoKHmv77YRw9NJTYnM3",
      "include_colab_link": true
    },
    "kernelspec": {
      "name": "python3",
      "display_name": "Python 3"
    },
    "language_info": {
      "name": "python"
    }
  },
  "cells": [
    {
      "cell_type": "markdown",
      "metadata": {
        "id": "view-in-github",
        "colab_type": "text"
      },
      "source": [
        "<a href=\"https://colab.research.google.com/github/ab0929/ProjectMaker/blob/main/SVM_for_IE.ipynb\" target=\"_parent\"><img src=\"https://colab.research.google.com/assets/colab-badge.svg\" alt=\"Open In Colab\"/></a>"
      ]
    },
    {
      "cell_type": "code",
      "execution_count": null,
      "metadata": {
        "colab": {
          "base_uri": "https://localhost:8080/"
        },
        "id": "iKzdBrKsWBO-",
        "outputId": "f723cf94-5003-45b5-b747-7d8ea8e5d160"
      },
      "outputs": [
        {
          "output_type": "stream",
          "name": "stdout",
          "text": [
            "Accuracy: 0.5\n",
            "Predicted labels: [1 1]\n"
          ]
        }
      ],
      "source": [
        "from sklearn.feature_extraction.text import CountVectorizer\n",
        "from sklearn.model_selection import train_test_split\n",
        "from sklearn.svm import LinearSVC\n",
        "\n",
        "# Dataset\n",
        "dataset = [\n",
        "  (\"John Smith is a software engineer at Google.\", 1),\n",
        "  (\"The quick brown fox jumps over the lazy dog.\", 0),\n",
        "  (\"Sarah Johnson is a marketing executive at Amazon.\", 1),\n",
        "  (\"I like to eat pizza for dinner.\", 0),\n",
        "  (\"David Lee is a project manager at Microsoft.\", 1)\n",
        "]\n",
        "\n",
        "# Split dataset into training and testing sets\n",
        "sentences = [item[0] for item in dataset]\n",
        "labels = [item[1] for item in dataset]\n",
        "sentences_train, sentences_test, labels_train, labels_test = train_test_split(sentences, labels, test_size=0.25, random_state=42)\n",
        "\n",
        "# Feature extraction\n",
        "vectorizer = CountVectorizer()\n",
        "vectorizer.fit(sentences_train)\n",
        "X_train = vectorizer.transform(sentences_train)\n",
        "X_test  = vectorizer.transform(sentences_test)\n",
        "\n",
        "# Model training\n",
        "model = LinearSVC()\n",
        "model.fit(X_train, labels_train)\n",
        "\n",
        "# Model evaluation\n",
        "score = model.score(X_test, labels_test)\n",
        "print(\"Accuracy:\", score)\n",
        "\n",
        "# Information extraction\n",
        "new_sentences = [\n",
        "  \"Mary Williams is a lawyer at a law firm.\",\n",
        "  \"The sun rises in the east and sets in the west.\"\n",
        "]\n",
        "X_new = vectorizer.transform(new_sentences)\n",
        "predicted_labels = model.predict(X_new)\n",
        "print(\"Predicted labels:\", predicted_labels)\n"
      ]
    },
    {
      "cell_type": "code",
      "source": [],
      "metadata": {
        "id": "w6eP3x6IcrNA"
      },
      "execution_count": null,
      "outputs": []
    }
  ]
}